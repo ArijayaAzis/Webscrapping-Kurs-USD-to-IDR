{
 "cells": [
  {
   "cell_type": "markdown",
   "metadata": {},
   "source": [
    "# Capstone Webscraping using BeautifulSoup\n",
    "\n",
    "This notebook contains guidances & tasks on the data processing for the application\n",
    "\n",
    "Prepared by: Azis Arijaya\n",
    "\n",
    "Batch: Zeus DA Online\n",
    "\n",
    "## Background\n",
    "\n",
    "Pergerakan nilai mata uang Asing terhadap mata uang Indonensia memiliki perubahan yang fluktuatif, untuk mengukur perubahan nilai mata uang, biasanya menggunakan nilai USD (sebagai mata uang dasar) dibandingnkan dengan nilai mata IDR (sebagai matau uang counter). Pada studi case ini, saya akan mengambil data Kurs US Dollar (USD) terhadap Indonesia Rupiah (IDR) pada bulan Maret 2024 hinngga Agustus 2024. \n",
    "\n",
    ">## Business questions\n",
    ">Bagaimana pergerakan kurs US Dollar (USD) terhadap Indonesia Rupiah (IDR)\n",
    "\n",
    "## Metode\n",
    "Dengan Metode Web Scrapping, yaitu metode untuk mengambil data dari situ web secara otommatis. Dengan tujuan:\n",
    "- untuk pengumupulan konten. Mengambil konten seperti berita, artikel untuk agreagi atau pembuatan database konten.\n",
    "- untuk penncarian informasi secara spesifik.\n",
    "- melihat tren pada situs web.\n",
    "\n",
    ">## Scope\n",
    ">Mengambil data dari riawayt perubahan rate US Dollar (USD) ke Indonesia Rupiah (IDR) pada website https://www.exchange-rates.org/exchange-rate-history/usd-idr pada bulan Maret 2024 hinngga Agustus 2024.\n",
    "\n",
    "## Requesting the Data and Creating a BeautifulSoup\n",
    "\n",
    "Let's start by requesting the webpage using the `get` method from the `requests` library."
   ]
  },
  {
   "cell_type": "code",
   "execution_count": 1,
   "metadata": {
    "ExecuteTime": {
     "end_time": "2020-01-13T05:12:23.275508Z",
     "start_time": "2020-01-13T05:12:20.009898Z"
    }
   },
   "outputs": [],
   "source": [
    "import requests\n",
    "\n",
    "url_get = requests.get('https://www.exchange-rates.org/exchange-rate-history/usd-idr')"
   ]
  },
  {
   "cell_type": "markdown",
   "metadata": {},
   "source": [
    "To visualize what exactly you get from the `request.get`, we can use `.content` so see what we exactly get (HTML content), in here i slice it so it won't make our screen full of the html we get from the page. You can delete the slicing if you want to see what we fully get."
   ]
  },
  {
   "cell_type": "code",
   "execution_count": 2,
   "metadata": {
    "ExecuteTime": {
     "end_time": "2020-01-13T05:12:23.290648Z",
     "start_time": "2020-01-13T05:12:23.277650Z"
    }
   },
   "outputs": [
    {
     "data": {
      "text/plain": [
       "b'!DOCTYPE html>\\r\\n<!--[if lt IE 9]>\\r\\n<html class=\"no-js ie8 oldie\" lang=\"en\" xml:lang=\\'en\\'>\\r\\n<![endif]-->\\r\\n<!--[if gt IE 8]><!--><html class=\"no-js\" lang=\"en\" xml:lang=\\'en\\'><!--<![endif]-->\\r\\n<head>\\r\\n<title>US Dollar to Indonesian Rupiah History - USD to IDR Historical Rates</title>\\r\\n<meta http-equiv=\"X-UA-Compatible\" content=\"IE=edge\">\\r\\n<meta name=\"viewport\" content=\"width=device-width, initial-scale=1, maximum-scale=5\">\\r\\n<meta charset=\"utf-8\" /><meta http-equiv=\"Content-Type\" content=\"text/html;'"
      ]
     },
     "execution_count": 2,
     "metadata": {},
     "output_type": "execute_result"
    }
   ],
   "source": [
    "url_get.content[1:500]"
   ]
  },
  {
   "cell_type": "markdown",
   "metadata": {},
   "source": [
    "As we can see we get a very unstructured and complex html, which actually contains the codes needed to show the webpages on your web browser. But we as human still confused what and where we can use that piece of code, so here where we use the beautifulsoup. Beautiful soup class will result a beautifulsoup object. Beautiful Soup transforms a complex HTML document into a complex tree of Python objects. \n",
    "\n",
    "Let's create a BeautifulSoup object and feel free to explore the object here."
   ]
  },
  {
   "cell_type": "code",
   "execution_count": 3,
   "metadata": {
    "ExecuteTime": {
     "end_time": "2020-01-13T05:12:23.808122Z",
     "start_time": "2020-01-13T05:12:23.292610Z"
    }
   },
   "outputs": [],
   "source": [
    "from bs4 import BeautifulSoup \n",
    "\n",
    "soup = BeautifulSoup(url_get.content,\"html.parser\")"
   ]
  },
  {
   "cell_type": "markdown",
   "metadata": {},
   "source": [
    "## Finding the right key to scrap the data & Extracting the right information"
   ]
  },
  {
   "cell_type": "markdown",
   "metadata": {},
   "source": [
    "To extract the desired information, we need to find the right key using the .find() method. We can explore the HTML structure using .prettify().\n",
    "\n",
    "*(please change this markdown with your explanation)*\n",
    ">Kita akan mengambil bagian yg kita butuhkan (biasanya dalam sebuah Class) dari halaman website. \n",
    ">1. Lakukan insepct element pada website dengan cara klik kanan terus pilih 'inspect'.\n",
    ">2. Kemudian cari tabel yang kita pilih dan lihat elemet pada tabel tersebut.\n",
    ">3. Dicek terlebih dahulu tag-nya apa, bisa berupa 'div', 'a', 'tr', 'td', 'th', dan lain sebagainnya."
   ]
  },
  {
   "cell_type": "code",
   "execution_count": 27,
   "metadata": {
    "ExecuteTime": {
     "end_time": "2020-01-13T05:12:23.878904Z",
     "start_time": "2020-01-13T05:12:23.854974Z"
    }
   },
   "outputs": [
    {
     "name": "stdout",
     "output_type": "stream",
     "text": [
      "table border=\"0\" cellpadding=\"0\" cellspacing=\"0\" class=\"history-rates-data\">\n",
      " <thead>\n",
      "  <tr>\n",
      "   <th class=\"ltr-bidi-fix\">\n",
      "    Date\n",
      "   </th>\n",
      "   <th class=\"ltr-bidi-fix\">\n",
      "    US Dollar to Indonesian Rupiah\n",
      "   </th>\n",
      "  </tr>\n",
      " </thead>\n",
      " <tbody>\n",
      "  <tr>\n",
      "   <td>\n",
      "    <a class=\"w\" href=\"/exchange-rate-history/usd-idr-2024-09-02\">\n",
      "     <span class=\"nowrap\">\n",
      "      2024-9-2\n",
      "     </span>\n",
      "    </a>\n",
      "    <a class=\"n\" href=\"/exchange-rate-history/usd-idr-2024-09-02\">\n",
      "     <span class=\"nowrap\">\n",
      "      2024-9-2\n",
      "     </span>\n",
      "    </a>\n",
      "   </td>\n",
      "   <td>\n",
      "    <span class=\"w\">\n",
      "     <span class=\"nowrap\">\n",
      "      1 USD =\n",
      "     </span>\n",
      "     <span class=\"nowrap\">\n",
      "      15,554 IDR\n",
      "     </span>\n",
      "    </span>\n",
      "    <span class=\"n\">\n",
      "     <span class=\"nowrap\">\n",
      "      1 USD =\n",
      "     </span>\n",
      "     <span class=\"nowrap\">\n",
      "      15,554 IDR\n",
      "  \n"
     ]
    }
   ],
   "source": [
    "#table = soup.find('div', attrs={'class':'inner'})\n",
    "table = soup.find('table', attrs={'class':'history-rates-data'})\n",
    "print(table.prettify()[1:800])"
   ]
  },
  {
   "cell_type": "markdown",
   "metadata": {},
   "source": [
    "Next, we need to find the row length."
   ]
  },
  {
   "cell_type": "markdown",
   "metadata": {},
   "source": [
    "> - Find : akan mengambil semua bagian pada code dengan output html\n",
    "> - find_all : akan mengembalikan data dalam bentuk array"
   ]
  },
  {
   "cell_type": "code",
   "execution_count": 26,
   "metadata": {},
   "outputs": [
    {
     "data": {
      "text/plain": [
       "129"
      ]
     },
     "execution_count": 26,
     "metadata": {},
     "output_type": "execute_result"
    }
   ],
   "source": [
    "table_kurs = table.find_all('a', attrs={'class':'w'})\n",
    "#table_kurs\n",
    "row_length = len(table_kurs)\n",
    "row_length"
   ]
  },
  {
   "cell_type": "markdown",
   "metadata": {},
   "source": [
    "Do the scrapping process here (please change this markdown with your explanation). \n",
    "\n",
    "> You can use a for loop to perform the scraping process in various ways depending on the HTML structure of the website you want to scrap and the information you want to retrieve."
   ]
  },
  {
   "cell_type": "code",
   "execution_count": 50,
   "metadata": {
    "ExecuteTime": {
     "end_time": "2020-01-13T05:12:24.008256Z",
     "start_time": "2020-01-13T05:12:23.980358Z"
    }
   },
   "outputs": [
    {
     "data": {
      "text/plain": [
       "[('2024-8-30', '1 USD = 15,532 IDR'),\n",
       " ('2024-8-29', '1 USD = 15,466 IDR'),\n",
       " ('2024-8-28', '1 USD = 15,446 IDR'),\n",
       " ('2024-8-27', '1 USD = 15,481 IDR'),\n",
       " ('2024-8-26', '1 USD = 15,483 IDR'),\n",
       " ('2024-8-23', '1 USD = 15,401 IDR'),\n",
       " ('2024-8-22', '1 USD = 15,751 IDR'),\n",
       " ('2024-8-21', '1 USD = 15,508 IDR'),\n",
       " ('2024-8-20', '1 USD = 15,449 IDR'),\n",
       " ('2024-8-19', '1 USD = 15,530 IDR'),\n",
       " ('2024-8-16', '1 USD = 15,698 IDR'),\n",
       " ('2024-8-15', '1 USD = 15,773 IDR'),\n",
       " ('2024-8-14', '1 USD = 15,634 IDR'),\n",
       " ('2024-8-13', '1 USD = 15,756 IDR'),\n",
       " ('2024-8-12', '1 USD = 15,948 IDR'),\n",
       " ('2024-8-9', '1 USD = 15,950 IDR'),\n",
       " ('2024-8-8', '1 USD = 15,985 IDR'),\n",
       " ('2024-8-7', '1 USD = 16,030 IDR'),\n",
       " ('2024-8-6', '1 USD = 16,175 IDR'),\n",
       " ('2024-8-5', '1 USD = 16,222 IDR'),\n",
       " ('2024-8-2', '1 USD = 16,176 IDR'),\n",
       " ('2024-8-1', '1 USD = 16,275 IDR'),\n",
       " ('2024-7-31', '1 USD = 16,251 IDR'),\n",
       " ('2024-7-30', '1 USD = 16,326 IDR'),\n",
       " ('2024-7-29', '1 USD = 16,297 IDR'),\n",
       " ('2024-7-26', '1 USD = 16,304 IDR'),\n",
       " ('2024-7-25', '1 USD = 16,332 IDR'),\n",
       " ('2024-7-24', '1 USD = 16,245 IDR'),\n",
       " ('2024-7-23', '1 USD = 16,219 IDR'),\n",
       " ('2024-7-22', '1 USD = 16,218 IDR'),\n",
       " ('2024-7-19', '1 USD = 16,213 IDR'),\n",
       " ('2024-7-18', '1 USD = 16,181 IDR'),\n",
       " ('2024-7-17', '1 USD = 16,151 IDR'),\n",
       " ('2024-7-16', '1 USD = 16,166 IDR'),\n",
       " ('2024-7-15', '1 USD = 16,192 IDR'),\n",
       " ('2024-7-12', '1 USD = 16,115 IDR'),\n",
       " ('2024-7-11', '1 USD = 16,104 IDR'),\n",
       " ('2024-7-10', '1 USD = 16,204 IDR'),\n",
       " ('2024-7-9', '1 USD = 16,284 IDR'),\n",
       " ('2024-7-8', '1 USD = 16,285 IDR'),\n",
       " ('2024-7-5', '1 USD = 16,252 IDR'),\n",
       " ('2024-7-4', '1 USD = 16,336 IDR'),\n",
       " ('2024-7-3', '1 USD = 16,346 IDR'),\n",
       " ('2024-7-2', '1 USD = 16,387 IDR'),\n",
       " ('2024-7-1', '1 USD = 16,374 IDR'),\n",
       " ('2024-6-28', '1 USD = 16,350 IDR'),\n",
       " ('2024-6-27', '1 USD = 16,387 IDR'),\n",
       " ('2024-6-26', '1 USD = 16,431 IDR'),\n",
       " ('2024-6-25', '1 USD = 16,399 IDR'),\n",
       " ('2024-6-24', '1 USD = 16,401 IDR'),\n",
       " ('2024-6-21', '1 USD = 16,478 IDR'),\n",
       " ('2024-6-20', '1 USD = 16,490 IDR'),\n",
       " ('2024-6-19', '1 USD = 16,391 IDR'),\n",
       " ('2024-6-18', '1 USD = 16,376 IDR'),\n",
       " ('2024-6-17', '1 USD = 16,467 IDR'),\n",
       " ('2024-6-14', '1 USD = 16,487 IDR'),\n",
       " ('2024-6-13', '1 USD = 16,283 IDR'),\n",
       " ('2024-6-12', '1 USD = 16,246 IDR'),\n",
       " ('2024-6-11', '1 USD = 16,306 IDR'),\n",
       " ('2024-6-10', '1 USD = 16,309 IDR'),\n",
       " ('2024-6-7', '1 USD = 16,277 IDR'),\n",
       " ('2024-6-6', '1 USD = 16,239 IDR'),\n",
       " ('2024-6-5', '1 USD = 16,312 IDR'),\n",
       " ('2024-6-4', '1 USD = 16,282 IDR'),\n",
       " ('2024-6-3', '1 USD = 16,210 IDR'),\n",
       " ('2024-5-31', '1 USD = 16,255 IDR'),\n",
       " ('2024-5-30', '1 USD = 16,233 IDR'),\n",
       " ('2024-5-29', '1 USD = 16,252 IDR'),\n",
       " ('2024-5-28', '1 USD = 16,115 IDR'),\n",
       " ('2024-5-27', '1 USD = 16,073 IDR'),\n",
       " ('2024-5-24', '1 USD = 16,045 IDR'),\n",
       " ('2024-5-23', '1 USD = 16,091 IDR'),\n",
       " ('2024-5-22', '1 USD = 16,041 IDR'),\n",
       " ('2024-5-21', '1 USD = 16,004 IDR'),\n",
       " ('2024-5-20', '1 USD = 16,040 IDR'),\n",
       " ('2024-5-17', '1 USD = 15,965 IDR'),\n",
       " ('2024-5-16', '1 USD = 15,931 IDR'),\n",
       " ('2024-5-15', '1 USD = 15,918 IDR'),\n",
       " ('2024-5-14', '1 USD = 16,103 IDR'),\n",
       " ('2024-5-13', '1 USD = 16,118 IDR'),\n",
       " ('2024-5-10', '1 USD = 16,055 IDR'),\n",
       " ('2024-5-9', '1 USD = 16,027 IDR'),\n",
       " ('2024-5-8', '1 USD = 16,075 IDR'),\n",
       " ('2024-5-7', '1 USD = 16,072 IDR'),\n",
       " ('2024-5-6', '1 USD = 16,042 IDR'),\n",
       " ('2024-5-3', '1 USD = 15,969 IDR'),\n",
       " ('2024-5-2', '1 USD = 16,095 IDR'),\n",
       " ('2024-5-1', '1 USD = 16,194 IDR'),\n",
       " ('2024-4-30', '1 USD = 16,263 IDR'),\n",
       " ('2024-4-29', '1 USD = 16,241 IDR'),\n",
       " ('2024-4-26', '1 USD = 16,241 IDR'),\n",
       " ('2024-4-25', '1 USD = 16,193 IDR'),\n",
       " ('2024-4-24', '1 USD = 16,212 IDR'),\n",
       " ('2024-4-23', '1 USD = 16,143 IDR'),\n",
       " ('2024-4-22', '1 USD = 16,238 IDR'),\n",
       " ('2024-4-19', '1 USD = 16,218 IDR'),\n",
       " ('2024-4-18', '1 USD = 16,210 IDR'),\n",
       " ('2024-4-17', '1 USD = 16,243 IDR'),\n",
       " ('2024-4-16', '1 USD = 16,303 IDR'),\n",
       " ('2024-4-15', '1 USD = 16,083 IDR'),\n",
       " ('2024-4-12', '1 USD = 16,118 IDR'),\n",
       " ('2024-4-11', '1 USD = 16,011 IDR'),\n",
       " ('2024-4-10', '1 USD = 16,001 IDR'),\n",
       " ('2024-4-9', '1 USD = 15,892 IDR'),\n",
       " ('2024-4-8', '1 USD = 15,912 IDR'),\n",
       " ('2024-4-5', '1 USD = 15,888 IDR'),\n",
       " ('2024-4-4', '1 USD = 15,896 IDR'),\n",
       " ('2024-4-3', '1 USD = 15,942 IDR'),\n",
       " ('2024-4-2', '1 USD = 15,952 IDR'),\n",
       " ('2024-4-1', '1 USD = 15,951 IDR'),\n",
       " ('2024-3-29', '1 USD = 15,880 IDR'),\n",
       " ('2024-3-28', '1 USD = 15,891 IDR'),\n",
       " ('2024-3-27', '1 USD = 15,901 IDR'),\n",
       " ('2024-3-26', '1 USD = 15,821 IDR'),\n",
       " ('2024-3-25', '1 USD = 15,784 IDR'),\n",
       " ('2024-3-22', '1 USD = 15,814 IDR'),\n",
       " ('2024-3-21', '1 USD = 15,727 IDR'),\n",
       " ('2024-3-20', '1 USD = 15,697 IDR'),\n",
       " ('2024-3-19', '1 USD = 15,723 IDR'),\n",
       " ('2024-3-18', '1 USD = 15,742 IDR'),\n",
       " ('2024-3-15', '1 USD = 15,647 IDR'),\n",
       " ('2024-3-14', '1 USD = 15,638 IDR'),\n",
       " ('2024-3-13', '1 USD = 15,580 IDR'),\n",
       " ('2024-3-12', '1 USD = 15,560 IDR'),\n",
       " ('2024-3-11', '1 USD = 15,525 IDR'),\n",
       " ('2024-3-8', '1 USD = 15,541 IDR'),\n",
       " ('2024-3-7', '1 USD = 15,627 IDR'),\n",
       " ('2024-3-6', '1 USD = 15,660 IDR')]"
      ]
     },
     "execution_count": 50,
     "metadata": {},
     "output_type": "execute_result"
    }
   ],
   "source": [
    "temp = []  # Initiating a tuple\n",
    "\n",
    "for i in range(1, row_length):\n",
    "\n",
    "    # get date\n",
    "    Kurs_date = table.find_all('a', attrs={'class':'w'})[i].text\n",
    "\n",
    "    # get conversion    \n",
    "    Kurs_change = table.find_all('span', attrs={'class':'w'})[i].text\n",
    "    #Kurs_change = Kurs_change.strip(\"IDR\")     # to remove excess IDR \n",
    "    #Kurs_change = Kurs_change.str[-8:]         # untuk mengambil 6 karakter dari belakang saja, tp error, nanti saja saat cleaning\n",
    "\n",
    "    temp.append((Kurs_date, Kurs_change))\n",
    "temp"
   ]
  },
  {
   "cell_type": "markdown",
   "metadata": {},
   "source": [
    "Note: You can customize the code inside the loop according to your needs to extract the desired information from the website you scrap. Make sure to check and adjust the code well to suit the HTML structure and information you want to retrieve."
   ]
  },
  {
   "cell_type": "markdown",
   "metadata": {},
   "source": [
    "> Karena datanya dari tanggal terbaru ke tanggal kemaren, jadi kita perlu mengurutkan dengan dari waktu terlama ke waktu saat ini."
   ]
  },
  {
   "cell_type": "code",
   "execution_count": 51,
   "metadata": {},
   "outputs": [
    {
     "data": {
      "text/plain": [
       "[('2024-3-6', '1 USD = 15,660 IDR'),\n",
       " ('2024-3-7', '1 USD = 15,627 IDR'),\n",
       " ('2024-3-8', '1 USD = 15,541 IDR'),\n",
       " ('2024-3-11', '1 USD = 15,525 IDR'),\n",
       " ('2024-3-12', '1 USD = 15,560 IDR'),\n",
       " ('2024-3-13', '1 USD = 15,580 IDR'),\n",
       " ('2024-3-14', '1 USD = 15,638 IDR'),\n",
       " ('2024-3-15', '1 USD = 15,647 IDR'),\n",
       " ('2024-3-18', '1 USD = 15,742 IDR'),\n",
       " ('2024-3-19', '1 USD = 15,723 IDR'),\n",
       " ('2024-3-20', '1 USD = 15,697 IDR'),\n",
       " ('2024-3-21', '1 USD = 15,727 IDR'),\n",
       " ('2024-3-22', '1 USD = 15,814 IDR'),\n",
       " ('2024-3-25', '1 USD = 15,784 IDR'),\n",
       " ('2024-3-26', '1 USD = 15,821 IDR'),\n",
       " ('2024-3-27', '1 USD = 15,901 IDR'),\n",
       " ('2024-3-28', '1 USD = 15,891 IDR'),\n",
       " ('2024-3-29', '1 USD = 15,880 IDR'),\n",
       " ('2024-4-1', '1 USD = 15,951 IDR'),\n",
       " ('2024-4-2', '1 USD = 15,952 IDR'),\n",
       " ('2024-4-3', '1 USD = 15,942 IDR'),\n",
       " ('2024-4-4', '1 USD = 15,896 IDR'),\n",
       " ('2024-4-5', '1 USD = 15,888 IDR'),\n",
       " ('2024-4-8', '1 USD = 15,912 IDR'),\n",
       " ('2024-4-9', '1 USD = 15,892 IDR'),\n",
       " ('2024-4-10', '1 USD = 16,001 IDR'),\n",
       " ('2024-4-11', '1 USD = 16,011 IDR'),\n",
       " ('2024-4-12', '1 USD = 16,118 IDR'),\n",
       " ('2024-4-15', '1 USD = 16,083 IDR'),\n",
       " ('2024-4-16', '1 USD = 16,303 IDR'),\n",
       " ('2024-4-17', '1 USD = 16,243 IDR'),\n",
       " ('2024-4-18', '1 USD = 16,210 IDR'),\n",
       " ('2024-4-19', '1 USD = 16,218 IDR'),\n",
       " ('2024-4-22', '1 USD = 16,238 IDR'),\n",
       " ('2024-4-23', '1 USD = 16,143 IDR'),\n",
       " ('2024-4-24', '1 USD = 16,212 IDR'),\n",
       " ('2024-4-25', '1 USD = 16,193 IDR'),\n",
       " ('2024-4-26', '1 USD = 16,241 IDR'),\n",
       " ('2024-4-29', '1 USD = 16,241 IDR'),\n",
       " ('2024-4-30', '1 USD = 16,263 IDR'),\n",
       " ('2024-5-1', '1 USD = 16,194 IDR'),\n",
       " ('2024-5-2', '1 USD = 16,095 IDR'),\n",
       " ('2024-5-3', '1 USD = 15,969 IDR'),\n",
       " ('2024-5-6', '1 USD = 16,042 IDR'),\n",
       " ('2024-5-7', '1 USD = 16,072 IDR'),\n",
       " ('2024-5-8', '1 USD = 16,075 IDR'),\n",
       " ('2024-5-9', '1 USD = 16,027 IDR'),\n",
       " ('2024-5-10', '1 USD = 16,055 IDR'),\n",
       " ('2024-5-13', '1 USD = 16,118 IDR'),\n",
       " ('2024-5-14', '1 USD = 16,103 IDR'),\n",
       " ('2024-5-15', '1 USD = 15,918 IDR'),\n",
       " ('2024-5-16', '1 USD = 15,931 IDR'),\n",
       " ('2024-5-17', '1 USD = 15,965 IDR'),\n",
       " ('2024-5-20', '1 USD = 16,040 IDR'),\n",
       " ('2024-5-21', '1 USD = 16,004 IDR'),\n",
       " ('2024-5-22', '1 USD = 16,041 IDR'),\n",
       " ('2024-5-23', '1 USD = 16,091 IDR'),\n",
       " ('2024-5-24', '1 USD = 16,045 IDR'),\n",
       " ('2024-5-27', '1 USD = 16,073 IDR'),\n",
       " ('2024-5-28', '1 USD = 16,115 IDR'),\n",
       " ('2024-5-29', '1 USD = 16,252 IDR'),\n",
       " ('2024-5-30', '1 USD = 16,233 IDR'),\n",
       " ('2024-5-31', '1 USD = 16,255 IDR'),\n",
       " ('2024-6-3', '1 USD = 16,210 IDR'),\n",
       " ('2024-6-4', '1 USD = 16,282 IDR'),\n",
       " ('2024-6-5', '1 USD = 16,312 IDR'),\n",
       " ('2024-6-6', '1 USD = 16,239 IDR'),\n",
       " ('2024-6-7', '1 USD = 16,277 IDR'),\n",
       " ('2024-6-10', '1 USD = 16,309 IDR'),\n",
       " ('2024-6-11', '1 USD = 16,306 IDR'),\n",
       " ('2024-6-12', '1 USD = 16,246 IDR'),\n",
       " ('2024-6-13', '1 USD = 16,283 IDR'),\n",
       " ('2024-6-14', '1 USD = 16,487 IDR'),\n",
       " ('2024-6-17', '1 USD = 16,467 IDR'),\n",
       " ('2024-6-18', '1 USD = 16,376 IDR'),\n",
       " ('2024-6-19', '1 USD = 16,391 IDR'),\n",
       " ('2024-6-20', '1 USD = 16,490 IDR'),\n",
       " ('2024-6-21', '1 USD = 16,478 IDR'),\n",
       " ('2024-6-24', '1 USD = 16,401 IDR'),\n",
       " ('2024-6-25', '1 USD = 16,399 IDR'),\n",
       " ('2024-6-26', '1 USD = 16,431 IDR'),\n",
       " ('2024-6-27', '1 USD = 16,387 IDR'),\n",
       " ('2024-6-28', '1 USD = 16,350 IDR'),\n",
       " ('2024-7-1', '1 USD = 16,374 IDR'),\n",
       " ('2024-7-2', '1 USD = 16,387 IDR'),\n",
       " ('2024-7-3', '1 USD = 16,346 IDR'),\n",
       " ('2024-7-4', '1 USD = 16,336 IDR'),\n",
       " ('2024-7-5', '1 USD = 16,252 IDR'),\n",
       " ('2024-7-8', '1 USD = 16,285 IDR'),\n",
       " ('2024-7-9', '1 USD = 16,284 IDR'),\n",
       " ('2024-7-10', '1 USD = 16,204 IDR'),\n",
       " ('2024-7-11', '1 USD = 16,104 IDR'),\n",
       " ('2024-7-12', '1 USD = 16,115 IDR'),\n",
       " ('2024-7-15', '1 USD = 16,192 IDR'),\n",
       " ('2024-7-16', '1 USD = 16,166 IDR'),\n",
       " ('2024-7-17', '1 USD = 16,151 IDR'),\n",
       " ('2024-7-18', '1 USD = 16,181 IDR'),\n",
       " ('2024-7-19', '1 USD = 16,213 IDR'),\n",
       " ('2024-7-22', '1 USD = 16,218 IDR'),\n",
       " ('2024-7-23', '1 USD = 16,219 IDR'),\n",
       " ('2024-7-24', '1 USD = 16,245 IDR'),\n",
       " ('2024-7-25', '1 USD = 16,332 IDR'),\n",
       " ('2024-7-26', '1 USD = 16,304 IDR'),\n",
       " ('2024-7-29', '1 USD = 16,297 IDR'),\n",
       " ('2024-7-30', '1 USD = 16,326 IDR'),\n",
       " ('2024-7-31', '1 USD = 16,251 IDR'),\n",
       " ('2024-8-1', '1 USD = 16,275 IDR'),\n",
       " ('2024-8-2', '1 USD = 16,176 IDR'),\n",
       " ('2024-8-5', '1 USD = 16,222 IDR'),\n",
       " ('2024-8-6', '1 USD = 16,175 IDR'),\n",
       " ('2024-8-7', '1 USD = 16,030 IDR'),\n",
       " ('2024-8-8', '1 USD = 15,985 IDR'),\n",
       " ('2024-8-9', '1 USD = 15,950 IDR'),\n",
       " ('2024-8-12', '1 USD = 15,948 IDR'),\n",
       " ('2024-8-13', '1 USD = 15,756 IDR'),\n",
       " ('2024-8-14', '1 USD = 15,634 IDR'),\n",
       " ('2024-8-15', '1 USD = 15,773 IDR'),\n",
       " ('2024-8-16', '1 USD = 15,698 IDR'),\n",
       " ('2024-8-19', '1 USD = 15,530 IDR'),\n",
       " ('2024-8-20', '1 USD = 15,449 IDR'),\n",
       " ('2024-8-21', '1 USD = 15,508 IDR'),\n",
       " ('2024-8-22', '1 USD = 15,751 IDR'),\n",
       " ('2024-8-23', '1 USD = 15,401 IDR'),\n",
       " ('2024-8-26', '1 USD = 15,483 IDR'),\n",
       " ('2024-8-27', '1 USD = 15,481 IDR'),\n",
       " ('2024-8-28', '1 USD = 15,446 IDR'),\n",
       " ('2024-8-29', '1 USD = 15,466 IDR'),\n",
       " ('2024-8-30', '1 USD = 15,532 IDR')]"
      ]
     },
     "execution_count": 51,
     "metadata": {},
     "output_type": "execute_result"
    }
   ],
   "source": [
    "temp = temp[::-1]\n",
    "temp"
   ]
  },
  {
   "cell_type": "markdown",
   "metadata": {},
   "source": [
    "## Creating data frame & Data wrangling"
   ]
  },
  {
   "cell_type": "markdown",
   "metadata": {},
   "source": [
    "Once we have extracted the data, we can put it into a dataframe."
   ]
  },
  {
   "cell_type": "code",
   "execution_count": 128,
   "metadata": {
    "ExecuteTime": {
     "end_time": "2020-01-13T05:12:41.517372Z",
     "start_time": "2020-01-13T05:12:29.130015Z"
    }
   },
   "outputs": [
    {
     "data": {
      "text/html": [
       "<div>\n",
       "<style scoped>\n",
       "    .dataframe tbody tr th:only-of-type {\n",
       "        vertical-align: middle;\n",
       "    }\n",
       "\n",
       "    .dataframe tbody tr th {\n",
       "        vertical-align: top;\n",
       "    }\n",
       "\n",
       "    .dataframe thead th {\n",
       "        text-align: right;\n",
       "    }\n",
       "</style>\n",
       "<table border=\"1\" class=\"dataframe\">\n",
       "  <thead>\n",
       "    <tr style=\"text-align: right;\">\n",
       "      <th></th>\n",
       "      <th>Kurs_date</th>\n",
       "      <th>Kurs_change</th>\n",
       "    </tr>\n",
       "  </thead>\n",
       "  <tbody>\n",
       "    <tr>\n",
       "      <th>0</th>\n",
       "      <td>2024-3-6</td>\n",
       "      <td>1 USD = 15,660 IDR</td>\n",
       "    </tr>\n",
       "    <tr>\n",
       "      <th>1</th>\n",
       "      <td>2024-3-7</td>\n",
       "      <td>1 USD = 15,627 IDR</td>\n",
       "    </tr>\n",
       "    <tr>\n",
       "      <th>2</th>\n",
       "      <td>2024-3-8</td>\n",
       "      <td>1 USD = 15,541 IDR</td>\n",
       "    </tr>\n",
       "    <tr>\n",
       "      <th>3</th>\n",
       "      <td>2024-3-11</td>\n",
       "      <td>1 USD = 15,525 IDR</td>\n",
       "    </tr>\n",
       "    <tr>\n",
       "      <th>4</th>\n",
       "      <td>2024-3-12</td>\n",
       "      <td>1 USD = 15,560 IDR</td>\n",
       "    </tr>\n",
       "  </tbody>\n",
       "</table>\n",
       "</div>"
      ],
      "text/plain": [
       "   Kurs_date         Kurs_change\n",
       "0   2024-3-6  1 USD = 15,660 IDR\n",
       "1   2024-3-7  1 USD = 15,627 IDR\n",
       "2   2024-3-8  1 USD = 15,541 IDR\n",
       "3  2024-3-11  1 USD = 15,525 IDR\n",
       "4  2024-3-12  1 USD = 15,560 IDR"
      ]
     },
     "execution_count": 128,
     "metadata": {},
     "output_type": "execute_result"
    }
   ],
   "source": [
    "import pandas as pd\n",
    "\n",
    "df = pd.DataFrame(temp, columns =('Kurs_date','Kurs_change'))\n",
    "df.head()"
   ]
  },
  {
   "cell_type": "markdown",
   "metadata": {},
   "source": [
    "### Data Cleansing\n",
    "\n",
    "(please change this markdown with your explanation of what you do for data wrangling)\n",
    "> Untuk membersihkan data ini, dilakukan beberapa langkah:\n",
    "\n",
    "> 1. Menampilkan nominal kurs IDR tanpa kata 'IDR' dengan cara slicing method .str[]\n",
    "> 2. menghilangkan decimal point (,.) dari kolom Kurs_change denngan methode .str.replace()\n",
    "> 3. Mengubah tipe sesuai kebutuhan\n",
    "> 4. Mengambil data hanya pada Kuartal 2 (April - Mei -Juni)\n",
    "> 5. Melakukan setting index, dengan index pada kolom 'Kurs_date'"
   ]
  },
  {
   "cell_type": "code",
   "execution_count": 129,
   "metadata": {
    "ExecuteTime": {
     "end_time": "2020-01-13T05:12:59.165559Z",
     "start_time": "2020-01-13T05:12:58.910012Z"
    }
   },
   "outputs": [
    {
     "data": {
      "text/html": [
       "<div>\n",
       "<style scoped>\n",
       "    .dataframe tbody tr th:only-of-type {\n",
       "        vertical-align: middle;\n",
       "    }\n",
       "\n",
       "    .dataframe tbody tr th {\n",
       "        vertical-align: top;\n",
       "    }\n",
       "\n",
       "    .dataframe thead th {\n",
       "        text-align: right;\n",
       "    }\n",
       "</style>\n",
       "<table border=\"1\" class=\"dataframe\">\n",
       "  <thead>\n",
       "    <tr style=\"text-align: right;\">\n",
       "      <th></th>\n",
       "      <th>Kurs_date</th>\n",
       "      <th>Kurs_change</th>\n",
       "    </tr>\n",
       "  </thead>\n",
       "  <tbody>\n",
       "    <tr>\n",
       "      <th>0</th>\n",
       "      <td>2024-3-6</td>\n",
       "      <td>15660</td>\n",
       "    </tr>\n",
       "    <tr>\n",
       "      <th>1</th>\n",
       "      <td>2024-3-7</td>\n",
       "      <td>15627</td>\n",
       "    </tr>\n",
       "    <tr>\n",
       "      <th>2</th>\n",
       "      <td>2024-3-8</td>\n",
       "      <td>15541</td>\n",
       "    </tr>\n",
       "    <tr>\n",
       "      <th>3</th>\n",
       "      <td>2024-3-11</td>\n",
       "      <td>15525</td>\n",
       "    </tr>\n",
       "    <tr>\n",
       "      <th>4</th>\n",
       "      <td>2024-3-12</td>\n",
       "      <td>15560</td>\n",
       "    </tr>\n",
       "  </tbody>\n",
       "</table>\n",
       "</div>"
      ],
      "text/plain": [
       "   Kurs_date Kurs_change\n",
       "0   2024-3-6       15660\n",
       "1   2024-3-7       15627\n",
       "2   2024-3-8       15541\n",
       "3  2024-3-11       15525\n",
       "4  2024-3-12       15560"
      ]
     },
     "execution_count": 129,
     "metadata": {},
     "output_type": "execute_result"
    }
   ],
   "source": [
    "# Data Cleaning Step 1 & 2\n",
    "\n",
    "df['Kurs_change'] = df['Kurs_change'].str[-10:-4]\n",
    "#df['Kurs_change'] = df['Kurs_change'].str.strip(\",.\")\n",
    "df['Kurs_change'] = df['Kurs_change'].str.replace(',','')\n",
    "df.head()"
   ]
  },
  {
   "cell_type": "code",
   "execution_count": 130,
   "metadata": {},
   "outputs": [
    {
     "data": {
      "text/plain": [
       "Kurs_date      object\n",
       "Kurs_change    object\n",
       "dtype: object"
      ]
     },
     "execution_count": 130,
     "metadata": {},
     "output_type": "execute_result"
    }
   ],
   "source": [
    "df.dtypes"
   ]
  },
  {
   "cell_type": "code",
   "execution_count": 131,
   "metadata": {},
   "outputs": [
    {
     "data": {
      "text/plain": [
       "Kurs_date      datetime64[ns]\n",
       "Kurs_change           float64\n",
       "dtype: object"
      ]
     },
     "execution_count": 131,
     "metadata": {},
     "output_type": "execute_result"
    }
   ],
   "source": [
    "# Data cleaning step 3\n",
    "df['Kurs_date'] = df['Kurs_date'].astype('datetime64[ns]')\n",
    "df['Kurs_change'] = df['Kurs_change'].astype('float64') \n",
    "df.dtypes"
   ]
  },
  {
   "cell_type": "code",
   "execution_count": 132,
   "metadata": {},
   "outputs": [
    {
     "data": {
      "text/html": [
       "<div>\n",
       "<style scoped>\n",
       "    .dataframe tbody tr th:only-of-type {\n",
       "        vertical-align: middle;\n",
       "    }\n",
       "\n",
       "    .dataframe tbody tr th {\n",
       "        vertical-align: top;\n",
       "    }\n",
       "\n",
       "    .dataframe thead th {\n",
       "        text-align: right;\n",
       "    }\n",
       "</style>\n",
       "<table border=\"1\" class=\"dataframe\">\n",
       "  <thead>\n",
       "    <tr style=\"text-align: right;\">\n",
       "      <th></th>\n",
       "      <th>Kurs_date</th>\n",
       "      <th>Kurs_change</th>\n",
       "    </tr>\n",
       "  </thead>\n",
       "  <tbody>\n",
       "  </tbody>\n",
       "</table>\n",
       "</div>"
      ],
      "text/plain": [
       "Empty DataFrame\n",
       "Columns: [Kurs_date, Kurs_change]\n",
       "Index: []"
      ]
     },
     "execution_count": 132,
     "metadata": {},
     "output_type": "execute_result"
    }
   ],
   "source": [
    "# Data Cleaning Step 4\n",
    "#df['Kurs_date'] = df['Kurs_date'][df['Kurs_date'].between('2024-04-01', '2024-06-30')\n",
    "df2 = df.loc[ '2024-4-1' : '2024-6-31' ,:]\n",
    "df2"
   ]
  },
  {
   "cell_type": "code",
   "execution_count": 133,
   "metadata": {},
   "outputs": [
    {
     "data": {
      "text/html": [
       "<div>\n",
       "<style scoped>\n",
       "    .dataframe tbody tr th:only-of-type {\n",
       "        vertical-align: middle;\n",
       "    }\n",
       "\n",
       "    .dataframe tbody tr th {\n",
       "        vertical-align: top;\n",
       "    }\n",
       "\n",
       "    .dataframe thead th {\n",
       "        text-align: right;\n",
       "    }\n",
       "</style>\n",
       "<table border=\"1\" class=\"dataframe\">\n",
       "  <thead>\n",
       "    <tr style=\"text-align: right;\">\n",
       "      <th></th>\n",
       "      <th>Kurs_change</th>\n",
       "    </tr>\n",
       "    <tr>\n",
       "      <th>Kurs_date</th>\n",
       "      <th></th>\n",
       "    </tr>\n",
       "  </thead>\n",
       "  <tbody>\n",
       "    <tr>\n",
       "      <th>2024-08-26</th>\n",
       "      <td>15483.0</td>\n",
       "    </tr>\n",
       "    <tr>\n",
       "      <th>2024-08-27</th>\n",
       "      <td>15481.0</td>\n",
       "    </tr>\n",
       "    <tr>\n",
       "      <th>2024-08-28</th>\n",
       "      <td>15446.0</td>\n",
       "    </tr>\n",
       "    <tr>\n",
       "      <th>2024-08-29</th>\n",
       "      <td>15466.0</td>\n",
       "    </tr>\n",
       "    <tr>\n",
       "      <th>2024-08-30</th>\n",
       "      <td>15532.0</td>\n",
       "    </tr>\n",
       "  </tbody>\n",
       "</table>\n",
       "</div>"
      ],
      "text/plain": [
       "            Kurs_change\n",
       "Kurs_date              \n",
       "2024-08-26      15483.0\n",
       "2024-08-27      15481.0\n",
       "2024-08-28      15446.0\n",
       "2024-08-29      15466.0\n",
       "2024-08-30      15532.0"
      ]
     },
     "execution_count": 133,
     "metadata": {},
     "output_type": "execute_result"
    }
   ],
   "source": [
    "# Data cleaning step 5\n",
    "df = df.set_index('Kurs_date')\n",
    "df.tail()"
   ]
  },
  {
   "cell_type": "markdown",
   "metadata": {},
   "source": [
    "### Data Visualization\n",
    "\n",
    "(please change this markdown with your explanation of what you do for data wrangling)\n",
    "> Data yang diambil menggunakan metode Web Scraping dengan data kurs 1 US Dollar (USD) ke nilai Indonesia Rupiah (IDR)\n",
    "> - Dengan sumbu X adalah waktu dari bulan Maret 2024 hingga 30 Agustus 2024\n",
    "> - Sumbu Y berupa nilai Indonesia Rupiah (IDR) terhadap 1 USD."
   ]
  },
  {
   "cell_type": "code",
   "execution_count": 134,
   "metadata": {},
   "outputs": [
    {
     "data": {
      "image/png": "[encoded data removed]",
      "text/plain": [
       "<Figure size 640x480 with 1 Axes>"
      ]
     },
     "metadata": {},
     "output_type": "display_data"
    }
   ],
   "source": [
    "df.plot();"
   ]
  },
  {
   "cell_type": "markdown",
   "metadata": {},
   "source": [
    "### Implementing your webscrapping to the flask dashboard\n",
    "\n",
    "- Copy paste all of your web scrapping process to the desired position on the `app.py`\n",
    "- Change the title of the dashboard in `index.html`"
   ]
  },
  {
   "cell_type": "markdown",
   "metadata": {},
   "source": [
    "## Finishing This Notebook with Your Analysis and Conclusion\n",
    "\n",
    "First you can do start with making the data visualization."
   ]
  },
  {
   "cell_type": "code",
   "execution_count": 87,
   "metadata": {
    "ExecuteTime": {
     "end_time": "2020-01-13T05:20:56.208237Z",
     "start_time": "2020-01-13T05:20:56.076043Z"
    }
   },
   "outputs": [
    {
     "data": {
      "text/plain": [
       "<Axes: xlabel='Kurs_date'>"
      ]
     },
     "execution_count": 87,
     "metadata": {},
     "output_type": "execute_result"
    },
    {
     "data": {
      "image/png": "[encoded data removed]",
      "text/plain": [
       "<Figure size 640x480 with 1 Axes>"
      ]
     },
     "metadata": {},
     "output_type": "display_data"
    }
   ],
   "source": [
    "df.plot()"
   ]
  },
  {
   "cell_type": "markdown",
   "metadata": {},
   "source": [
    "## Analysis\n",
    "\n",
    "> Dari data visualisasi diatas, dapat diambil beberapa kesimpulan:\n",
    "> - Pada awal mei 2024, nilai Rupiah Semakin menguat, tetapi pada akhir Mei 2024 nilai rupiah malah semakin melemah menyentuh nilai yang hampir sama seperti awal mei 2024\n",
    "> - Pada awal agustus 2024, nilai rupiah semakin menguat secara dratis. \n",
    "> - Nilai Rupiah paling kuat terdapat pada bulan agustus dan menyetuh harga IDR 15.400 untuk 1 USD."
   ]
  },
  {
   "cell_type": "markdown",
   "metadata": {},
   "source": [
    "### Extra Challange\n",
    "\n",
    "This will be not included to the scoring. \n",
    "\n",
    "- You can create additional visualization/analysis from the data.\n",
    "- Implement it to the dashboard with at `app.py` dan `index.html`."
   ]
  }
 ],
 "metadata": {
  "kernelspec": {
   "display_name": "capstone_da",
   "language": "python",
   "name": "python3"
  },
  "language_info": {
   "codemirror_mode": {
    "name": "ipython",
    "version": 3
   },
   "file_extension": ".py",
   "mimetype": "text/x-python",
   "name": "python",
   "nbconvert_exporter": "python",
   "pygments_lexer": "ipython3",
   "version": "3.12.4"
  }
 },
 "nbformat": 4,
 "nbformat_minor": 2
}
